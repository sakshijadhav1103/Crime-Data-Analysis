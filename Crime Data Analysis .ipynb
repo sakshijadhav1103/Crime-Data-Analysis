{
 "cells": [
  {
   "cell_type": "code",
   "execution_count": 1,
   "id": "7c175e4c",
   "metadata": {},
   "outputs": [],
   "source": [
    "import pandas as pd\n",
    "import numpy as np\n",
    "import seaborn as sns\n",
    "from sklearn import preprocessing\n",
    "from sklearn.preprocessing import LabelEncoder\n",
    "from sklearn.naive_bayes import GaussianNB\n",
    "from sklearn.model_selection import train_test_split\n",
    "from sklearn.metrics import classification_report\n",
    "import matplotlib.pyplot as plt\n",
    "import statsmodels.api as sm\n",
    "from statsmodels.formula.api import ols"
   ]
  },
  {
   "cell_type": "markdown",
   "id": "7da490f4",
   "metadata": {},
   "source": [
    "1. EDA\n",
    "2. anova analysis \n",
    "3. naive bayes "
   ]
  },
  {
   "cell_type": "code",
   "execution_count": 11,
   "id": "3080a706",
   "metadata": {},
   "outputs": [],
   "source": [
    "crime=pd.read_csv(\"CRIME2.csv\")"
   ]
  },
  {
   "cell_type": "code",
   "execution_count": 3,
   "id": "5564c0c5",
   "metadata": {
    "scrolled": true
   },
   "outputs": [
    {
     "data": {
      "text/html": [
       "<div>\n",
       "<style scoped>\n",
       "    .dataframe tbody tr th:only-of-type {\n",
       "        vertical-align: middle;\n",
       "    }\n",
       "\n",
       "    .dataframe tbody tr th {\n",
       "        vertical-align: top;\n",
       "    }\n",
       "\n",
       "    .dataframe thead th {\n",
       "        text-align: right;\n",
       "    }\n",
       "</style>\n",
       "<table border=\"1\" class=\"dataframe\">\n",
       "  <thead>\n",
       "    <tr style=\"text-align: right;\">\n",
       "      <th></th>\n",
       "      <th>Victim_age</th>\n",
       "      <th>Victim_gender</th>\n",
       "      <th>Suspect_age</th>\n",
       "      <th>Suspect_gender_identified</th>\n",
       "      <th>Suspect_known_status</th>\n",
       "      <th>Suspect_count</th>\n",
       "      <th>Victim_religion</th>\n",
       "      <th>Police_station</th>\n",
       "      <th>Crime</th>\n",
       "    </tr>\n",
       "  </thead>\n",
       "  <tbody>\n",
       "    <tr>\n",
       "      <th>0</th>\n",
       "      <td>25</td>\n",
       "      <td>Female</td>\n",
       "      <td>NaN</td>\n",
       "      <td>both</td>\n",
       "      <td>known</td>\n",
       "      <td>4</td>\n",
       "      <td>Muslim</td>\n",
       "      <td>Daighar</td>\n",
       "      <td>domestic violence</td>\n",
       "    </tr>\n",
       "    <tr>\n",
       "      <th>1</th>\n",
       "      <td>14</td>\n",
       "      <td>Female</td>\n",
       "      <td>19.0</td>\n",
       "      <td>Male</td>\n",
       "      <td>known</td>\n",
       "      <td>1</td>\n",
       "      <td>Muslim</td>\n",
       "      <td>Daighar</td>\n",
       "      <td>sexual assault of minor</td>\n",
       "    </tr>\n",
       "    <tr>\n",
       "      <th>2</th>\n",
       "      <td>17</td>\n",
       "      <td>Female</td>\n",
       "      <td>NaN</td>\n",
       "      <td>unknown</td>\n",
       "      <td>unknown</td>\n",
       "      <td>1</td>\n",
       "      <td>Muslim</td>\n",
       "      <td>Daighar</td>\n",
       "      <td>kidnapping</td>\n",
       "    </tr>\n",
       "    <tr>\n",
       "      <th>3</th>\n",
       "      <td>12</td>\n",
       "      <td>Female</td>\n",
       "      <td>31.0</td>\n",
       "      <td>Male</td>\n",
       "      <td>known</td>\n",
       "      <td>1</td>\n",
       "      <td>Hindu</td>\n",
       "      <td>Daighar</td>\n",
       "      <td>rape of minor</td>\n",
       "    </tr>\n",
       "    <tr>\n",
       "      <th>4</th>\n",
       "      <td>16</td>\n",
       "      <td>Female</td>\n",
       "      <td>NaN</td>\n",
       "      <td>unknown</td>\n",
       "      <td>unknown</td>\n",
       "      <td>1</td>\n",
       "      <td>Muslim</td>\n",
       "      <td>Daighar</td>\n",
       "      <td>kidnapping</td>\n",
       "    </tr>\n",
       "    <tr>\n",
       "      <th>...</th>\n",
       "      <td>...</td>\n",
       "      <td>...</td>\n",
       "      <td>...</td>\n",
       "      <td>...</td>\n",
       "      <td>...</td>\n",
       "      <td>...</td>\n",
       "      <td>...</td>\n",
       "      <td>...</td>\n",
       "      <td>...</td>\n",
       "    </tr>\n",
       "    <tr>\n",
       "      <th>65</th>\n",
       "      <td>37</td>\n",
       "      <td>Female</td>\n",
       "      <td>17.0</td>\n",
       "      <td>Male</td>\n",
       "      <td>known</td>\n",
       "      <td>1</td>\n",
       "      <td>Hindu</td>\n",
       "      <td>Rabodi</td>\n",
       "      <td>sexual assault</td>\n",
       "    </tr>\n",
       "    <tr>\n",
       "      <th>66</th>\n",
       "      <td>24</td>\n",
       "      <td>Female</td>\n",
       "      <td>NaN</td>\n",
       "      <td>both</td>\n",
       "      <td>known</td>\n",
       "      <td>3</td>\n",
       "      <td>Muslim</td>\n",
       "      <td>Rabodi</td>\n",
       "      <td>domestic violence</td>\n",
       "    </tr>\n",
       "    <tr>\n",
       "      <th>67</th>\n",
       "      <td>26</td>\n",
       "      <td>Female</td>\n",
       "      <td>NaN</td>\n",
       "      <td>both</td>\n",
       "      <td>known</td>\n",
       "      <td>4</td>\n",
       "      <td>Muslim</td>\n",
       "      <td>Rabodi</td>\n",
       "      <td>domestic violence</td>\n",
       "    </tr>\n",
       "    <tr>\n",
       "      <th>68</th>\n",
       "      <td>39</td>\n",
       "      <td>Female</td>\n",
       "      <td>NaN</td>\n",
       "      <td>Male</td>\n",
       "      <td>known</td>\n",
       "      <td>2</td>\n",
       "      <td>Hindu</td>\n",
       "      <td>Rabodi</td>\n",
       "      <td>domestic violence</td>\n",
       "    </tr>\n",
       "    <tr>\n",
       "      <th>69</th>\n",
       "      <td>41</td>\n",
       "      <td>Female</td>\n",
       "      <td>NaN</td>\n",
       "      <td>both</td>\n",
       "      <td>known</td>\n",
       "      <td>4</td>\n",
       "      <td>Hindu</td>\n",
       "      <td>Rabodi</td>\n",
       "      <td>domestic violence</td>\n",
       "    </tr>\n",
       "  </tbody>\n",
       "</table>\n",
       "<p>70 rows × 9 columns</p>\n",
       "</div>"
      ],
      "text/plain": [
       "    Victim_age Victim_gender  Suspect_age Suspect_gender_identified  \\\n",
       "0           25        Female          NaN                      both   \n",
       "1           14        Female         19.0                      Male   \n",
       "2           17        Female          NaN                   unknown   \n",
       "3           12        Female         31.0                      Male   \n",
       "4           16        Female          NaN                   unknown   \n",
       "..         ...           ...          ...                       ...   \n",
       "65          37        Female         17.0                      Male   \n",
       "66          24        Female          NaN                      both   \n",
       "67          26        Female          NaN                      both   \n",
       "68          39        Female          NaN                      Male   \n",
       "69          41        Female          NaN                      both   \n",
       "\n",
       "   Suspect_known_status  Suspect_count Victim_religion Police_station  \\\n",
       "0                 known              4          Muslim        Daighar   \n",
       "1                 known              1          Muslim        Daighar   \n",
       "2               unknown              1          Muslim        Daighar   \n",
       "3                 known              1           Hindu        Daighar   \n",
       "4               unknown              1          Muslim        Daighar   \n",
       "..                  ...            ...             ...            ...   \n",
       "65                known              1           Hindu         Rabodi   \n",
       "66                known              3          Muslim         Rabodi   \n",
       "67                known              4          Muslim         Rabodi   \n",
       "68                known              2           Hindu         Rabodi   \n",
       "69                known              4           Hindu         Rabodi   \n",
       "\n",
       "                      Crime  \n",
       "0         domestic violence  \n",
       "1   sexual assault of minor  \n",
       "2                kidnapping  \n",
       "3             rape of minor  \n",
       "4                kidnapping  \n",
       "..                      ...  \n",
       "65           sexual assault  \n",
       "66        domestic violence  \n",
       "67        domestic violence  \n",
       "68        domestic violence  \n",
       "69        domestic violence  \n",
       "\n",
       "[70 rows x 9 columns]"
      ]
     },
     "execution_count": 3,
     "metadata": {},
     "output_type": "execute_result"
    }
   ],
   "source": [
    "crime.head(71)"
   ]
  },
  {
   "cell_type": "code",
   "execution_count": 4,
   "id": "c968b27a",
   "metadata": {},
   "outputs": [
    {
     "name": "stdout",
     "output_type": "stream",
     "text": [
      "       Victim_age  Suspect_age  Suspect_count\n",
      "count   70.000000    43.000000      70.000000\n",
      "mean    26.357143    30.255814       1.514286\n",
      "std     10.775759    12.016047       0.880429\n",
      "min      2.000000    14.000000       1.000000\n",
      "25%     17.000000    21.500000       1.000000\n",
      "50%     24.000000    28.000000       1.000000\n",
      "75%     36.750000    36.000000       2.000000\n",
      "max     57.000000    76.000000       4.000000\n"
     ]
    }
   ],
   "source": [
    "print(crime.describe())"
   ]
  },
  {
   "cell_type": "code",
   "execution_count": 5,
   "id": "3fedf1f6",
   "metadata": {},
   "outputs": [
    {
     "name": "stdout",
     "output_type": "stream",
     "text": [
      "Victim_age                    0\n",
      "Victim_gender                 0\n",
      "Suspect_age                  27\n",
      "Suspect_gender_identified     0\n",
      "Suspect_known_status          0\n",
      "Suspect_count                 0\n",
      "Victim_religion               0\n",
      "Police_station                0\n",
      "Crime                         0\n",
      "dtype: int64\n"
     ]
    }
   ],
   "source": [
    "print(crime.isnull().sum())"
   ]
  },
  {
   "cell_type": "code",
   "execution_count": 6,
   "id": "42f7e6af",
   "metadata": {},
   "outputs": [
    {
     "data": {
      "text/plain": [
       "array(['domestic violence', 'sexual assault of minor', 'kidnapping',\n",
       "       'rape of minor', 'murder', 'attempted murder', 'rape',\n",
       "       'sexual assault', 'cyber defamation', 'kidnapping of minor',\n",
       "       'rape and cyber defamation', 'robbery', 'assault',\n",
       "       'assault and robbery'], dtype=object)"
      ]
     },
     "execution_count": 6,
     "metadata": {},
     "output_type": "execute_result"
    }
   ],
   "source": [
    "crime.Crime.unique()"
   ]
  },
  {
   "cell_type": "markdown",
   "id": "5c556de3",
   "metadata": {},
   "source": [
    "# Exploratory Data Analysis"
   ]
  },
  {
   "cell_type": "code",
   "execution_count": 7,
   "id": "aceb58f5",
   "metadata": {},
   "outputs": [
    {
     "data": {
      "image/png": "[encoded data removed]",
      "text/plain": [
       "<Figure size 432x288 with 1 Axes>"
      ]
     },
     "metadata": {
      "needs_background": "light"
     },
     "output_type": "display_data"
    }
   ],
   "source": [
    "# Histogram\n",
    "crime['Victim_age'].hist()\n",
    "plt.title('Distribution of Victim Age')\n",
    "plt.xlabel('Age')\n",
    "plt.ylabel('Frequency')\n",
    "plt.show()"
   ]
  },
  {
   "cell_type": "code",
   "execution_count": 9,
   "id": "cb7acdc2",
   "metadata": {},
   "outputs": [
    {
     "name": "stderr",
     "output_type": "stream",
     "text": [
      "D:\\Downloads\\anaconda\\lib\\site-packages\\seaborn\\distributions.py:2619: FutureWarning: `distplot` is a deprecated function and will be removed in a future version. Please adapt your code to use either `displot` (a figure-level function with similar flexibility) or `histplot` (an axes-level function for histograms).\n",
      "  warnings.warn(msg, FutureWarning)\n"
     ]
    },
    {
     "data": {
      "text/plain": [
       "<Axes: xlabel='Victim_age', ylabel='Density'>"
      ]
     },
     "execution_count": 9,
     "metadata": {},
     "output_type": "execute_result"
    },
    {
     "data": {
      "image/png": "[encoded data removed]",
      "text/plain": [
       "<Figure size 432x288 with 1 Axes>"
      ]
     },
     "metadata": {
      "needs_background": "light"
     },
     "output_type": "display_data"
    }
   ],
   "source": [
    "sns.distplot(crime['Victim_age'],bins=5) "
   ]
  },
  {
   "cell_type": "code",
   "execution_count": 12,
   "id": "df400232",
   "metadata": {},
   "outputs": [
    {
     "data": {
      "image/png": "[encoded data removed]",
      "text/plain": [
       "<Figure size 432x288 with 1 Axes>"
      ]
     },
     "metadata": {
      "needs_background": "light"
     },
     "output_type": "display_data"
    }
   ],
   "source": [
    "# Bar charts for categorical variables\n",
    "crime['Victim_gender'].value_counts().plot(kind='bar')\n",
    "plt.title('Distribution of Victim Gender')\n",
    "plt.xlabel('Gender')\n",
    "plt.ylabel('Frequency')\n",
    "plt.show()"
   ]
  },
  {
   "cell_type": "code",
   "execution_count": 13,
   "id": "f34c1746",
   "metadata": {},
   "outputs": [
    {
     "data": {
      "image/png": "[encoded data removed]",
      "text/plain": [
       "<Figure size 432x288 with 1 Axes>"
      ]
     },
     "metadata": {
      "needs_background": "light"
     },
     "output_type": "display_data"
    }
   ],
   "source": [
    "# Box plot for numeric variables\n",
    "sns.boxplot(x=crime['Victim_age'])\n",
    "plt.title('Box plot of Victim Age')\n",
    "plt.show()"
   ]
  },
  {
   "cell_type": "code",
   "execution_count": 16,
   "id": "6d0c9ced",
   "metadata": {},
   "outputs": [
    {
     "data": {
      "text/html": [
       "<div>\n",
       "<style scoped>\n",
       "    .dataframe tbody tr th:only-of-type {\n",
       "        vertical-align: middle;\n",
       "    }\n",
       "\n",
       "    .dataframe tbody tr th {\n",
       "        vertical-align: top;\n",
       "    }\n",
       "\n",
       "    .dataframe thead th {\n",
       "        text-align: right;\n",
       "    }\n",
       "</style>\n",
       "<table border=\"1\" class=\"dataframe\">\n",
       "  <thead>\n",
       "    <tr style=\"text-align: right;\">\n",
       "      <th>Crime</th>\n",
       "      <th>assault</th>\n",
       "      <th>assault and robbery</th>\n",
       "      <th>attempted murder</th>\n",
       "      <th>cyber defamation</th>\n",
       "      <th>domestic violence</th>\n",
       "      <th>kidnapping</th>\n",
       "      <th>kidnapping of minor</th>\n",
       "      <th>murder</th>\n",
       "      <th>rape</th>\n",
       "      <th>rape and cyber defamation</th>\n",
       "      <th>rape of minor</th>\n",
       "      <th>robbery</th>\n",
       "      <th>sexual assault</th>\n",
       "      <th>sexual assault of minor</th>\n",
       "    </tr>\n",
       "    <tr>\n",
       "      <th>Victim_gender</th>\n",
       "      <th></th>\n",
       "      <th></th>\n",
       "      <th></th>\n",
       "      <th></th>\n",
       "      <th></th>\n",
       "      <th></th>\n",
       "      <th></th>\n",
       "      <th></th>\n",
       "      <th></th>\n",
       "      <th></th>\n",
       "      <th></th>\n",
       "      <th></th>\n",
       "      <th></th>\n",
       "      <th></th>\n",
       "    </tr>\n",
       "  </thead>\n",
       "  <tbody>\n",
       "    <tr>\n",
       "      <th>Female</th>\n",
       "      <td>2</td>\n",
       "      <td>0</td>\n",
       "      <td>1</td>\n",
       "      <td>3</td>\n",
       "      <td>8</td>\n",
       "      <td>4</td>\n",
       "      <td>1</td>\n",
       "      <td>1</td>\n",
       "      <td>6</td>\n",
       "      <td>2</td>\n",
       "      <td>5</td>\n",
       "      <td>6</td>\n",
       "      <td>8</td>\n",
       "      <td>10</td>\n",
       "    </tr>\n",
       "    <tr>\n",
       "      <th>Male</th>\n",
       "      <td>0</td>\n",
       "      <td>2</td>\n",
       "      <td>4</td>\n",
       "      <td>0</td>\n",
       "      <td>0</td>\n",
       "      <td>0</td>\n",
       "      <td>0</td>\n",
       "      <td>2</td>\n",
       "      <td>0</td>\n",
       "      <td>0</td>\n",
       "      <td>0</td>\n",
       "      <td>5</td>\n",
       "      <td>0</td>\n",
       "      <td>0</td>\n",
       "    </tr>\n",
       "  </tbody>\n",
       "</table>\n",
       "</div>"
      ],
      "text/plain": [
       "Crime          assault  assault and robbery  attempted murder  \\\n",
       "Victim_gender                                                   \n",
       "Female               2                    0                 1   \n",
       "Male                 0                    2                 4   \n",
       "\n",
       "Crime          cyber defamation  domestic violence  kidnapping  \\\n",
       "Victim_gender                                                    \n",
       "Female                        3                  8           4   \n",
       "Male                          0                  0           0   \n",
       "\n",
       "Crime          kidnapping of minor  murder  rape  rape and cyber defamation  \\\n",
       "Victim_gender                                                                 \n",
       "Female                           1       1     6                          2   \n",
       "Male                             0       2     0                          0   \n",
       "\n",
       "Crime          rape of minor  robbery  sexual assault  sexual assault of minor  \n",
       "Victim_gender                                                                   \n",
       "Female                     5        6               8                       10  \n",
       "Male                       0        5               0                        0  "
      ]
     },
     "execution_count": 16,
     "metadata": {},
     "output_type": "execute_result"
    }
   ],
   "source": [
    "cross_tab = pd.crosstab(crime['Victim_gender'], crime['Crime'])\n",
    "cross_tab"
   ]
  },
  {
   "cell_type": "code",
   "execution_count": 21,
   "id": "fca02d39",
   "metadata": {},
   "outputs": [
    {
     "data": {
      "image/png": "[encoded data removed]",
      "text/plain": [
       "<Figure size 432x288 with 2 Axes>"
      ]
     },
     "metadata": {
      "needs_background": "light"
     },
     "output_type": "display_data"
    }
   ],
   "source": [
    "# Correlation heatmap\n",
    "sns.heatmap(crime.corr(), annot=True)\n",
    "plt.title('Correlation Heatmap')\n",
    "plt.show()"
   ]
  },
  {
   "cell_type": "code",
   "execution_count": 8,
   "id": "890b119b",
   "metadata": {},
   "outputs": [
    {
     "data": {
      "text/plain": [
       "<AxesSubplot:xlabel='Suspect_gender_identified', ylabel='Crime'>"
      ]
     },
     "execution_count": 8,
     "metadata": {},
     "output_type": "execute_result"
    },
    {
     "data": {
      "image/png": "[encoded data removed]",
      "text/plain": [
       "<Figure size 432x288 with 2 Axes>"
      ]
     },
     "metadata": {
      "needs_background": "light"
     },
     "output_type": "display_data"
    }
   ],
   "source": [
    "pivot_table = crime.pivot_table(index='Crime', columns='Suspect_gender_identified', values='Victim_age', aggfunc=np.mean)\n",
    "sns.heatmap(pivot_table, annot=True, cmap='coolwarm')"
   ]
  },
  {
   "cell_type": "code",
   "execution_count": 22,
   "id": "71cf7836",
   "metadata": {},
   "outputs": [
    {
     "data": {
      "image/png": "[encoded data removed]",
      "text/plain": [
       "<Figure size 432x288 with 1 Axes>"
      ]
     },
     "metadata": {
      "needs_background": "light"
     },
     "output_type": "display_data"
    }
   ],
   "source": [
    "# Scatter plot\n",
    "plt.scatter(crime['Victim_age'], crime['Suspect_age'])\n",
    "plt.title('Victim Age vs Suspect Age')\n",
    "plt.xlabel('Victim Age')\n",
    "plt.ylabel('Suspect Age')\n",
    "plt.show()"
   ]
  },
  {
   "cell_type": "code",
   "execution_count": 10,
   "id": "3c5d938b",
   "metadata": {},
   "outputs": [
    {
     "data": {
      "text/plain": [
       "<AxesSubplot:xlabel='Police_station', ylabel='count'>"
      ]
     },
     "execution_count": 10,
     "metadata": {},
     "output_type": "execute_result"
    },
    {
     "data": {
      "image/png": "[encoded data removed]",
      "text/plain": [
       "<Figure size 432x288 with 1 Axes>"
      ]
     },
     "metadata": {
      "needs_background": "light"
     },
     "output_type": "display_data"
    }
   ],
   "source": [
    "sns.countplot(x='Police_station',hue=\"Victim_religion\", data=crime)"
   ]
  },
  {
   "cell_type": "code",
   "execution_count": 12,
   "id": "19666ee1",
   "metadata": {},
   "outputs": [
    {
     "data": {
      "text/plain": [
       "<AxesSubplot:title={'center':'Victim_age'}, xlabel='Police_station'>"
      ]
     },
     "execution_count": 12,
     "metadata": {},
     "output_type": "execute_result"
    },
    {
     "data": {
      "image/png": "[encoded data removed]",
      "text/plain": [
       "<Figure size 432x288 with 1 Axes>"
      ]
     },
     "metadata": {
      "needs_background": "light"
     },
     "output_type": "display_data"
    }
   ],
   "source": [
    "crime.boxplot('Victim_age',by=\"Police_station\")"
   ]
  },
  {
   "cell_type": "markdown",
   "id": "b0ab3f8a",
   "metadata": {},
   "source": [
    "# ANOVA analysis\n"
   ]
  },
  {
   "cell_type": "code",
   "execution_count": 23,
   "id": "8e981f50",
   "metadata": {},
   "outputs": [
    {
     "data": {
      "text/html": [
       "<div>\n",
       "<style scoped>\n",
       "    .dataframe tbody tr th:only-of-type {\n",
       "        vertical-align: middle;\n",
       "    }\n",
       "\n",
       "    .dataframe tbody tr th {\n",
       "        vertical-align: top;\n",
       "    }\n",
       "\n",
       "    .dataframe thead th {\n",
       "        text-align: right;\n",
       "    }\n",
       "</style>\n",
       "<table border=\"1\" class=\"dataframe\">\n",
       "  <thead>\n",
       "    <tr style=\"text-align: right;\">\n",
       "      <th></th>\n",
       "      <th>df</th>\n",
       "      <th>sum_sq</th>\n",
       "      <th>mean_sq</th>\n",
       "      <th>F</th>\n",
       "      <th>PR(&gt;F)</th>\n",
       "    </tr>\n",
       "  </thead>\n",
       "  <tbody>\n",
       "    <tr>\n",
       "      <th>Victim_gender</th>\n",
       "      <td>1.0</td>\n",
       "      <td>415.963466</td>\n",
       "      <td>415.963466</td>\n",
       "      <td>3.723685</td>\n",
       "      <td>0.057819</td>\n",
       "    </tr>\n",
       "    <tr>\n",
       "      <th>Residual</th>\n",
       "      <td>68.0</td>\n",
       "      <td>7596.107962</td>\n",
       "      <td>111.707470</td>\n",
       "      <td>NaN</td>\n",
       "      <td>NaN</td>\n",
       "    </tr>\n",
       "  </tbody>\n",
       "</table>\n",
       "</div>"
      ],
      "text/plain": [
       "                 df       sum_sq     mean_sq         F    PR(>F)\n",
       "Victim_gender   1.0   415.963466  415.963466  3.723685  0.057819\n",
       "Residual       68.0  7596.107962  111.707470       NaN       NaN"
      ]
     },
     "execution_count": 23,
     "metadata": {},
     "output_type": "execute_result"
    }
   ],
   "source": [
    "model=ols('Victim_age~Victim_gender',data=crime).fit()\n",
    "model=sm.stats.anova_lm(model,type=1)\n",
    "model"
   ]
  },
  {
   "cell_type": "code",
   "execution_count": 24,
   "id": "c92c79c9",
   "metadata": {},
   "outputs": [
    {
     "data": {
      "text/html": [
       "<div>\n",
       "<style scoped>\n",
       "    .dataframe tbody tr th:only-of-type {\n",
       "        vertical-align: middle;\n",
       "    }\n",
       "\n",
       "    .dataframe tbody tr th {\n",
       "        vertical-align: top;\n",
       "    }\n",
       "\n",
       "    .dataframe thead th {\n",
       "        text-align: right;\n",
       "    }\n",
       "</style>\n",
       "<table border=\"1\" class=\"dataframe\">\n",
       "  <thead>\n",
       "    <tr style=\"text-align: right;\">\n",
       "      <th></th>\n",
       "      <th>df</th>\n",
       "      <th>sum_sq</th>\n",
       "      <th>mean_sq</th>\n",
       "      <th>F</th>\n",
       "      <th>PR(&gt;F)</th>\n",
       "    </tr>\n",
       "  </thead>\n",
       "  <tbody>\n",
       "    <tr>\n",
       "      <th>Crime</th>\n",
       "      <td>13.0</td>\n",
       "      <td>4841.004004</td>\n",
       "      <td>372.384923</td>\n",
       "      <td>6.576194</td>\n",
       "      <td>2.191919e-07</td>\n",
       "    </tr>\n",
       "    <tr>\n",
       "      <th>Residual</th>\n",
       "      <td>56.0</td>\n",
       "      <td>3171.067424</td>\n",
       "      <td>56.626204</td>\n",
       "      <td>NaN</td>\n",
       "      <td>NaN</td>\n",
       "    </tr>\n",
       "  </tbody>\n",
       "</table>\n",
       "</div>"
      ],
      "text/plain": [
       "            df       sum_sq     mean_sq         F        PR(>F)\n",
       "Crime     13.0  4841.004004  372.384923  6.576194  2.191919e-07\n",
       "Residual  56.0  3171.067424   56.626204       NaN           NaN"
      ]
     },
     "execution_count": 24,
     "metadata": {},
     "output_type": "execute_result"
    }
   ],
   "source": [
    "model=ols('Victim_age~Crime',data=crime).fit()\n",
    "model=sm.stats.anova_lm(model,type=1)\n",
    "model"
   ]
  },
  {
   "cell_type": "code",
   "execution_count": 28,
   "id": "a113ce2a",
   "metadata": {},
   "outputs": [
    {
     "data": {
      "text/html": [
       "<div>\n",
       "<style scoped>\n",
       "    .dataframe tbody tr th:only-of-type {\n",
       "        vertical-align: middle;\n",
       "    }\n",
       "\n",
       "    .dataframe tbody tr th {\n",
       "        vertical-align: top;\n",
       "    }\n",
       "\n",
       "    .dataframe thead th {\n",
       "        text-align: right;\n",
       "    }\n",
       "</style>\n",
       "<table border=\"1\" class=\"dataframe\">\n",
       "  <thead>\n",
       "    <tr style=\"text-align: right;\">\n",
       "      <th></th>\n",
       "      <th>df</th>\n",
       "      <th>sum_sq</th>\n",
       "      <th>mean_sq</th>\n",
       "      <th>F</th>\n",
       "      <th>PR(&gt;F)</th>\n",
       "    </tr>\n",
       "  </thead>\n",
       "  <tbody>\n",
       "    <tr>\n",
       "      <th>Crime</th>\n",
       "      <td>13.0</td>\n",
       "      <td>4841.004004</td>\n",
       "      <td>372.384923</td>\n",
       "      <td>6.550291</td>\n",
       "      <td>2.600623e-07</td>\n",
       "    </tr>\n",
       "    <tr>\n",
       "      <th>Suspect_count</th>\n",
       "      <td>1.0</td>\n",
       "      <td>44.310254</td>\n",
       "      <td>44.310254</td>\n",
       "      <td>0.779422</td>\n",
       "      <td>3.811605e-01</td>\n",
       "    </tr>\n",
       "    <tr>\n",
       "      <th>Residual</th>\n",
       "      <td>55.0</td>\n",
       "      <td>3126.757171</td>\n",
       "      <td>56.850130</td>\n",
       "      <td>NaN</td>\n",
       "      <td>NaN</td>\n",
       "    </tr>\n",
       "  </tbody>\n",
       "</table>\n",
       "</div>"
      ],
      "text/plain": [
       "                 df       sum_sq     mean_sq         F        PR(>F)\n",
       "Crime          13.0  4841.004004  372.384923  6.550291  2.600623e-07\n",
       "Suspect_count   1.0    44.310254   44.310254  0.779422  3.811605e-01\n",
       "Residual       55.0  3126.757171   56.850130       NaN           NaN"
      ]
     },
     "execution_count": 28,
     "metadata": {},
     "output_type": "execute_result"
    }
   ],
   "source": [
    "model=ols('Victim_age~Crime+Suspect_count',data=crime).fit()\n",
    "model=sm.stats.anova_lm(model,type=1)\n",
    "model"
   ]
  },
  {
   "cell_type": "code",
   "execution_count": 25,
   "id": "ca4e9672",
   "metadata": {},
   "outputs": [
    {
     "data": {
      "text/html": [
       "<div>\n",
       "<style scoped>\n",
       "    .dataframe tbody tr th:only-of-type {\n",
       "        vertical-align: middle;\n",
       "    }\n",
       "\n",
       "    .dataframe tbody tr th {\n",
       "        vertical-align: top;\n",
       "    }\n",
       "\n",
       "    .dataframe thead th {\n",
       "        text-align: right;\n",
       "    }\n",
       "</style>\n",
       "<table border=\"1\" class=\"dataframe\">\n",
       "  <thead>\n",
       "    <tr style=\"text-align: right;\">\n",
       "      <th></th>\n",
       "      <th>df</th>\n",
       "      <th>sum_sq</th>\n",
       "      <th>mean_sq</th>\n",
       "      <th>F</th>\n",
       "      <th>PR(&gt;F)</th>\n",
       "    </tr>\n",
       "  </thead>\n",
       "  <tbody>\n",
       "    <tr>\n",
       "      <th>Police_station</th>\n",
       "      <td>5.0</td>\n",
       "      <td>1777.238755</td>\n",
       "      <td>355.447751</td>\n",
       "      <td>3.648639</td>\n",
       "      <td>0.005751</td>\n",
       "    </tr>\n",
       "    <tr>\n",
       "      <th>Residual</th>\n",
       "      <td>64.0</td>\n",
       "      <td>6234.832674</td>\n",
       "      <td>97.419261</td>\n",
       "      <td>NaN</td>\n",
       "      <td>NaN</td>\n",
       "    </tr>\n",
       "  </tbody>\n",
       "</table>\n",
       "</div>"
      ],
      "text/plain": [
       "                  df       sum_sq     mean_sq         F    PR(>F)\n",
       "Police_station   5.0  1777.238755  355.447751  3.648639  0.005751\n",
       "Residual        64.0  6234.832674   97.419261       NaN       NaN"
      ]
     },
     "execution_count": 25,
     "metadata": {},
     "output_type": "execute_result"
    }
   ],
   "source": [
    "model=ols('Victim_age~Police_station',data=crime).fit()\n",
    "model=sm.stats.anova_lm(model,type=1)\n",
    "model"
   ]
  },
  {
   "cell_type": "code",
   "execution_count": 26,
   "id": "d6872e79",
   "metadata": {},
   "outputs": [
    {
     "data": {
      "text/html": [
       "<div>\n",
       "<style scoped>\n",
       "    .dataframe tbody tr th:only-of-type {\n",
       "        vertical-align: middle;\n",
       "    }\n",
       "\n",
       "    .dataframe tbody tr th {\n",
       "        vertical-align: top;\n",
       "    }\n",
       "\n",
       "    .dataframe thead th {\n",
       "        text-align: right;\n",
       "    }\n",
       "</style>\n",
       "<table border=\"1\" class=\"dataframe\">\n",
       "  <thead>\n",
       "    <tr style=\"text-align: right;\">\n",
       "      <th></th>\n",
       "      <th>df</th>\n",
       "      <th>sum_sq</th>\n",
       "      <th>mean_sq</th>\n",
       "      <th>F</th>\n",
       "      <th>PR(&gt;F)</th>\n",
       "    </tr>\n",
       "  </thead>\n",
       "  <tbody>\n",
       "    <tr>\n",
       "      <th>Crime</th>\n",
       "      <td>13.0</td>\n",
       "      <td>35.503896</td>\n",
       "      <td>2.731069</td>\n",
       "      <td>8.50525</td>\n",
       "      <td>3.700379e-09</td>\n",
       "    </tr>\n",
       "    <tr>\n",
       "      <th>Residual</th>\n",
       "      <td>56.0</td>\n",
       "      <td>17.981818</td>\n",
       "      <td>0.321104</td>\n",
       "      <td>NaN</td>\n",
       "      <td>NaN</td>\n",
       "    </tr>\n",
       "  </tbody>\n",
       "</table>\n",
       "</div>"
      ],
      "text/plain": [
       "            df     sum_sq   mean_sq        F        PR(>F)\n",
       "Crime     13.0  35.503896  2.731069  8.50525  3.700379e-09\n",
       "Residual  56.0  17.981818  0.321104      NaN           NaN"
      ]
     },
     "execution_count": 26,
     "metadata": {},
     "output_type": "execute_result"
    }
   ],
   "source": [
    "model=ols('Suspect_count~Crime',data=crime).fit()\n",
    "model=sm.stats.anova_lm(model,type=1)\n",
    "model"
   ]
  },
  {
   "cell_type": "code",
   "execution_count": 27,
   "id": "51d10a0d",
   "metadata": {},
   "outputs": [
    {
     "data": {
      "text/html": [
       "<div>\n",
       "<style scoped>\n",
       "    .dataframe tbody tr th:only-of-type {\n",
       "        vertical-align: middle;\n",
       "    }\n",
       "\n",
       "    .dataframe tbody tr th {\n",
       "        vertical-align: top;\n",
       "    }\n",
       "\n",
       "    .dataframe thead th {\n",
       "        text-align: right;\n",
       "    }\n",
       "</style>\n",
       "<table border=\"1\" class=\"dataframe\">\n",
       "  <thead>\n",
       "    <tr style=\"text-align: right;\">\n",
       "      <th></th>\n",
       "      <th>df</th>\n",
       "      <th>sum_sq</th>\n",
       "      <th>mean_sq</th>\n",
       "      <th>F</th>\n",
       "      <th>PR(&gt;F)</th>\n",
       "    </tr>\n",
       "  </thead>\n",
       "  <tbody>\n",
       "    <tr>\n",
       "      <th>Police_station</th>\n",
       "      <td>5.0</td>\n",
       "      <td>2.671722</td>\n",
       "      <td>0.534344</td>\n",
       "      <td>0.673004</td>\n",
       "      <td>0.645372</td>\n",
       "    </tr>\n",
       "    <tr>\n",
       "      <th>Residual</th>\n",
       "      <td>64.0</td>\n",
       "      <td>50.813993</td>\n",
       "      <td>0.793969</td>\n",
       "      <td>NaN</td>\n",
       "      <td>NaN</td>\n",
       "    </tr>\n",
       "  </tbody>\n",
       "</table>\n",
       "</div>"
      ],
      "text/plain": [
       "                  df     sum_sq   mean_sq         F    PR(>F)\n",
       "Police_station   5.0   2.671722  0.534344  0.673004  0.645372\n",
       "Residual        64.0  50.813993  0.793969       NaN       NaN"
      ]
     },
     "execution_count": 27,
     "metadata": {},
     "output_type": "execute_result"
    }
   ],
   "source": [
    "model=ols('Suspect_count~Police_station',data=crime).fit()\n",
    "model=sm.stats.anova_lm(model,type=1)\n",
    "model"
   ]
  },
  {
   "cell_type": "markdown",
   "id": "c42fb30c",
   "metadata": {},
   "source": [
    "# Naive Bayes"
   ]
  },
  {
   "cell_type": "code",
   "execution_count": 29,
   "id": "09aa69eb",
   "metadata": {},
   "outputs": [],
   "source": [
    "crime['Suspect_age'] = crime.groupby('Crime')['Suspect_age'].transform(lambda x: x.fillna(x.median()))"
   ]
  },
  {
   "cell_type": "code",
   "execution_count": 30,
   "id": "94cb2278",
   "metadata": {},
   "outputs": [
    {
     "data": {
      "text/plain": [
       "6"
      ]
     },
     "execution_count": 30,
     "metadata": {},
     "output_type": "execute_result"
    }
   ],
   "source": [
    "crime.Suspect_age.isnull().sum()"
   ]
  },
  {
   "cell_type": "code",
   "execution_count": 32,
   "id": "57595589",
   "metadata": {},
   "outputs": [
    {
     "data": {
      "text/html": [
       "<div>\n",
       "<style scoped>\n",
       "    .dataframe tbody tr th:only-of-type {\n",
       "        vertical-align: middle;\n",
       "    }\n",
       "\n",
       "    .dataframe tbody tr th {\n",
       "        vertical-align: top;\n",
       "    }\n",
       "\n",
       "    .dataframe thead th {\n",
       "        text-align: right;\n",
       "    }\n",
       "</style>\n",
       "<table border=\"1\" class=\"dataframe\">\n",
       "  <thead>\n",
       "    <tr style=\"text-align: right;\">\n",
       "      <th></th>\n",
       "      <th>Victim_age</th>\n",
       "      <th>Victim_gender</th>\n",
       "      <th>Suspect_age</th>\n",
       "      <th>Suspect_gender_identified</th>\n",
       "      <th>Suspect_known_status</th>\n",
       "      <th>Suspect_count</th>\n",
       "      <th>Victim_religion</th>\n",
       "      <th>Police_station</th>\n",
       "      <th>Crime</th>\n",
       "    </tr>\n",
       "  </thead>\n",
       "  <tbody>\n",
       "    <tr>\n",
       "      <th>0</th>\n",
       "      <td>25</td>\n",
       "      <td>Female</td>\n",
       "      <td>33.0</td>\n",
       "      <td>both</td>\n",
       "      <td>known</td>\n",
       "      <td>4</td>\n",
       "      <td>Muslim</td>\n",
       "      <td>Daighar</td>\n",
       "      <td>domestic violence</td>\n",
       "    </tr>\n",
       "    <tr>\n",
       "      <th>1</th>\n",
       "      <td>14</td>\n",
       "      <td>Female</td>\n",
       "      <td>19.0</td>\n",
       "      <td>Male</td>\n",
       "      <td>known</td>\n",
       "      <td>1</td>\n",
       "      <td>Muslim</td>\n",
       "      <td>Daighar</td>\n",
       "      <td>sexual assault of minor</td>\n",
       "    </tr>\n",
       "    <tr>\n",
       "      <th>2</th>\n",
       "      <td>17</td>\n",
       "      <td>Female</td>\n",
       "      <td>NaN</td>\n",
       "      <td>unknown</td>\n",
       "      <td>unknown</td>\n",
       "      <td>1</td>\n",
       "      <td>Muslim</td>\n",
       "      <td>Daighar</td>\n",
       "      <td>kidnapping</td>\n",
       "    </tr>\n",
       "    <tr>\n",
       "      <th>3</th>\n",
       "      <td>12</td>\n",
       "      <td>Female</td>\n",
       "      <td>31.0</td>\n",
       "      <td>Male</td>\n",
       "      <td>known</td>\n",
       "      <td>1</td>\n",
       "      <td>Hindu</td>\n",
       "      <td>Daighar</td>\n",
       "      <td>rape of minor</td>\n",
       "    </tr>\n",
       "    <tr>\n",
       "      <th>4</th>\n",
       "      <td>16</td>\n",
       "      <td>Female</td>\n",
       "      <td>NaN</td>\n",
       "      <td>unknown</td>\n",
       "      <td>unknown</td>\n",
       "      <td>1</td>\n",
       "      <td>Muslim</td>\n",
       "      <td>Daighar</td>\n",
       "      <td>kidnapping</td>\n",
       "    </tr>\n",
       "    <tr>\n",
       "      <th>...</th>\n",
       "      <td>...</td>\n",
       "      <td>...</td>\n",
       "      <td>...</td>\n",
       "      <td>...</td>\n",
       "      <td>...</td>\n",
       "      <td>...</td>\n",
       "      <td>...</td>\n",
       "      <td>...</td>\n",
       "      <td>...</td>\n",
       "    </tr>\n",
       "    <tr>\n",
       "      <th>65</th>\n",
       "      <td>37</td>\n",
       "      <td>Female</td>\n",
       "      <td>17.0</td>\n",
       "      <td>Male</td>\n",
       "      <td>known</td>\n",
       "      <td>1</td>\n",
       "      <td>Hindu</td>\n",
       "      <td>Rabodi</td>\n",
       "      <td>sexual assault</td>\n",
       "    </tr>\n",
       "    <tr>\n",
       "      <th>66</th>\n",
       "      <td>24</td>\n",
       "      <td>Female</td>\n",
       "      <td>33.0</td>\n",
       "      <td>both</td>\n",
       "      <td>known</td>\n",
       "      <td>3</td>\n",
       "      <td>Muslim</td>\n",
       "      <td>Rabodi</td>\n",
       "      <td>domestic violence</td>\n",
       "    </tr>\n",
       "    <tr>\n",
       "      <th>67</th>\n",
       "      <td>26</td>\n",
       "      <td>Female</td>\n",
       "      <td>33.0</td>\n",
       "      <td>both</td>\n",
       "      <td>known</td>\n",
       "      <td>4</td>\n",
       "      <td>Muslim</td>\n",
       "      <td>Rabodi</td>\n",
       "      <td>domestic violence</td>\n",
       "    </tr>\n",
       "    <tr>\n",
       "      <th>68</th>\n",
       "      <td>39</td>\n",
       "      <td>Female</td>\n",
       "      <td>33.0</td>\n",
       "      <td>Male</td>\n",
       "      <td>known</td>\n",
       "      <td>2</td>\n",
       "      <td>Hindu</td>\n",
       "      <td>Rabodi</td>\n",
       "      <td>domestic violence</td>\n",
       "    </tr>\n",
       "    <tr>\n",
       "      <th>69</th>\n",
       "      <td>41</td>\n",
       "      <td>Female</td>\n",
       "      <td>33.0</td>\n",
       "      <td>both</td>\n",
       "      <td>known</td>\n",
       "      <td>4</td>\n",
       "      <td>Hindu</td>\n",
       "      <td>Rabodi</td>\n",
       "      <td>domestic violence</td>\n",
       "    </tr>\n",
       "  </tbody>\n",
       "</table>\n",
       "<p>70 rows × 9 columns</p>\n",
       "</div>"
      ],
      "text/plain": [
       "    Victim_age Victim_gender  Suspect_age Suspect_gender_identified  \\\n",
       "0           25        Female         33.0                      both   \n",
       "1           14        Female         19.0                      Male   \n",
       "2           17        Female          NaN                   unknown   \n",
       "3           12        Female         31.0                      Male   \n",
       "4           16        Female          NaN                   unknown   \n",
       "..         ...           ...          ...                       ...   \n",
       "65          37        Female         17.0                      Male   \n",
       "66          24        Female         33.0                      both   \n",
       "67          26        Female         33.0                      both   \n",
       "68          39        Female         33.0                      Male   \n",
       "69          41        Female         33.0                      both   \n",
       "\n",
       "   Suspect_known_status  Suspect_count Victim_religion Police_station  \\\n",
       "0                 known              4          Muslim        Daighar   \n",
       "1                 known              1          Muslim        Daighar   \n",
       "2               unknown              1          Muslim        Daighar   \n",
       "3                 known              1           Hindu        Daighar   \n",
       "4               unknown              1          Muslim        Daighar   \n",
       "..                  ...            ...             ...            ...   \n",
       "65                known              1           Hindu         Rabodi   \n",
       "66                known              3          Muslim         Rabodi   \n",
       "67                known              4          Muslim         Rabodi   \n",
       "68                known              2           Hindu         Rabodi   \n",
       "69                known              4           Hindu         Rabodi   \n",
       "\n",
       "                      Crime  \n",
       "0         domestic violence  \n",
       "1   sexual assault of minor  \n",
       "2                kidnapping  \n",
       "3             rape of minor  \n",
       "4                kidnapping  \n",
       "..                      ...  \n",
       "65           sexual assault  \n",
       "66        domestic violence  \n",
       "67        domestic violence  \n",
       "68        domestic violence  \n",
       "69        domestic violence  \n",
       "\n",
       "[70 rows x 9 columns]"
      ]
     },
     "execution_count": 32,
     "metadata": {},
     "output_type": "execute_result"
    }
   ],
   "source": [
    "crime"
   ]
  },
  {
   "cell_type": "code",
   "execution_count": 48,
   "id": "3d883d94",
   "metadata": {},
   "outputs": [
    {
     "data": {
      "text/html": [
       "<div>\n",
       "<style scoped>\n",
       "    .dataframe tbody tr th:only-of-type {\n",
       "        vertical-align: middle;\n",
       "    }\n",
       "\n",
       "    .dataframe tbody tr th {\n",
       "        vertical-align: top;\n",
       "    }\n",
       "\n",
       "    .dataframe thead th {\n",
       "        text-align: right;\n",
       "    }\n",
       "</style>\n",
       "<table border=\"1\" class=\"dataframe\">\n",
       "  <thead>\n",
       "    <tr style=\"text-align: right;\">\n",
       "      <th></th>\n",
       "      <th>Victim_age</th>\n",
       "      <th>Victim_gender</th>\n",
       "      <th>Suspect_age</th>\n",
       "      <th>Suspect_gender_identified</th>\n",
       "      <th>Suspect_known_status</th>\n",
       "      <th>Suspect_count</th>\n",
       "      <th>Victim_religion</th>\n",
       "      <th>Police_station</th>\n",
       "      <th>Crime</th>\n",
       "    </tr>\n",
       "  </thead>\n",
       "  <tbody>\n",
       "    <tr>\n",
       "      <th>2</th>\n",
       "      <td>17</td>\n",
       "      <td>Female</td>\n",
       "      <td>NaN</td>\n",
       "      <td>unknown</td>\n",
       "      <td>unknown</td>\n",
       "      <td>1</td>\n",
       "      <td>Muslim</td>\n",
       "      <td>Daighar</td>\n",
       "      <td>kidnapping</td>\n",
       "    </tr>\n",
       "    <tr>\n",
       "      <th>4</th>\n",
       "      <td>16</td>\n",
       "      <td>Female</td>\n",
       "      <td>NaN</td>\n",
       "      <td>unknown</td>\n",
       "      <td>unknown</td>\n",
       "      <td>1</td>\n",
       "      <td>Muslim</td>\n",
       "      <td>Daighar</td>\n",
       "      <td>kidnapping</td>\n",
       "    </tr>\n",
       "    <tr>\n",
       "      <th>5</th>\n",
       "      <td>17</td>\n",
       "      <td>Female</td>\n",
       "      <td>NaN</td>\n",
       "      <td>unknown</td>\n",
       "      <td>unknown</td>\n",
       "      <td>1</td>\n",
       "      <td>Hindu</td>\n",
       "      <td>Daighar</td>\n",
       "      <td>kidnapping</td>\n",
       "    </tr>\n",
       "    <tr>\n",
       "      <th>6</th>\n",
       "      <td>15</td>\n",
       "      <td>Female</td>\n",
       "      <td>NaN</td>\n",
       "      <td>unknown</td>\n",
       "      <td>unknown</td>\n",
       "      <td>1</td>\n",
       "      <td>Muslim</td>\n",
       "      <td>Daighar</td>\n",
       "      <td>kidnapping</td>\n",
       "    </tr>\n",
       "    <tr>\n",
       "      <th>30</th>\n",
       "      <td>42</td>\n",
       "      <td>Female</td>\n",
       "      <td>NaN</td>\n",
       "      <td>both</td>\n",
       "      <td>known</td>\n",
       "      <td>4</td>\n",
       "      <td>Muslim</td>\n",
       "      <td>Mumbra</td>\n",
       "      <td>assault</td>\n",
       "    </tr>\n",
       "    <tr>\n",
       "      <th>32</th>\n",
       "      <td>25</td>\n",
       "      <td>Female</td>\n",
       "      <td>NaN</td>\n",
       "      <td>both</td>\n",
       "      <td>known</td>\n",
       "      <td>2</td>\n",
       "      <td>Muslim</td>\n",
       "      <td>Mumbra</td>\n",
       "      <td>assault</td>\n",
       "    </tr>\n",
       "  </tbody>\n",
       "</table>\n",
       "</div>"
      ],
      "text/plain": [
       "    Victim_age Victim_gender  Suspect_age Suspect_gender_identified  \\\n",
       "2           17        Female          NaN                   unknown   \n",
       "4           16        Female          NaN                   unknown   \n",
       "5           17        Female          NaN                   unknown   \n",
       "6           15        Female          NaN                   unknown   \n",
       "30          42        Female          NaN                      both   \n",
       "32          25        Female          NaN                      both   \n",
       "\n",
       "   Suspect_known_status  Suspect_count Victim_religion Police_station  \\\n",
       "2               unknown              1          Muslim        Daighar   \n",
       "4               unknown              1          Muslim        Daighar   \n",
       "5               unknown              1           Hindu        Daighar   \n",
       "6               unknown              1          Muslim        Daighar   \n",
       "30                known              4          Muslim         Mumbra   \n",
       "32                known              2          Muslim         Mumbra   \n",
       "\n",
       "         Crime  \n",
       "2   kidnapping  \n",
       "4   kidnapping  \n",
       "5   kidnapping  \n",
       "6   kidnapping  \n",
       "30     assault  \n",
       "32     assault  "
      ]
     },
     "execution_count": 48,
     "metadata": {},
     "output_type": "execute_result"
    }
   ],
   "source": [
    "rows_with_na = crime[crime.isna().any(axis=1)]\n",
    "rows_with_na"
   ]
  },
  {
   "cell_type": "code",
   "execution_count": 59,
   "id": "f94fa86c",
   "metadata": {},
   "outputs": [],
   "source": [
    "crime.dropna(inplace=True)"
   ]
  },
  {
   "cell_type": "code",
   "execution_count": 60,
   "id": "5461f032",
   "metadata": {},
   "outputs": [],
   "source": [
    "data = pd.get_dummies(crime, columns=['Crime','Victim_gender', 'Suspect_gender_identified', 'Suspect_known_status', 'Victim_religion', 'Police_station'], drop_first=True)"
   ]
  },
  {
   "cell_type": "code",
   "execution_count": 61,
   "id": "3c95cbe0",
   "metadata": {},
   "outputs": [
    {
     "data": {
      "text/html": [
       "<div>\n",
       "<style scoped>\n",
       "    .dataframe tbody tr th:only-of-type {\n",
       "        vertical-align: middle;\n",
       "    }\n",
       "\n",
       "    .dataframe tbody tr th {\n",
       "        vertical-align: top;\n",
       "    }\n",
       "\n",
       "    .dataframe thead th {\n",
       "        text-align: right;\n",
       "    }\n",
       "</style>\n",
       "<table border=\"1\" class=\"dataframe\">\n",
       "  <thead>\n",
       "    <tr style=\"text-align: right;\">\n",
       "      <th></th>\n",
       "      <th>Victim_age</th>\n",
       "      <th>Suspect_age</th>\n",
       "      <th>Suspect_count</th>\n",
       "      <th>Crime_attempted murder</th>\n",
       "      <th>Crime_cyber defamation</th>\n",
       "      <th>Crime_domestic violence</th>\n",
       "      <th>Crime_kidnapping of minor</th>\n",
       "      <th>Crime_murder</th>\n",
       "      <th>Crime_rape</th>\n",
       "      <th>Crime_rape and cyber defamation</th>\n",
       "      <th>...</th>\n",
       "      <th>Suspect_gender_identified_Male</th>\n",
       "      <th>Suspect_gender_identified_both</th>\n",
       "      <th>Suspect_gender_identified_unknown</th>\n",
       "      <th>Suspect_known_status_unknown</th>\n",
       "      <th>Victim_religion_Muslim</th>\n",
       "      <th>Police_station_Kalwa</th>\n",
       "      <th>Police_station_Mumbra</th>\n",
       "      <th>Police_station_Naupada</th>\n",
       "      <th>Police_station_Rabodi</th>\n",
       "      <th>Police_station_Thanenagar</th>\n",
       "    </tr>\n",
       "  </thead>\n",
       "  <tbody>\n",
       "    <tr>\n",
       "      <th>0</th>\n",
       "      <td>25</td>\n",
       "      <td>33.0</td>\n",
       "      <td>4</td>\n",
       "      <td>0</td>\n",
       "      <td>0</td>\n",
       "      <td>1</td>\n",
       "      <td>0</td>\n",
       "      <td>0</td>\n",
       "      <td>0</td>\n",
       "      <td>0</td>\n",
       "      <td>...</td>\n",
       "      <td>0</td>\n",
       "      <td>1</td>\n",
       "      <td>0</td>\n",
       "      <td>0</td>\n",
       "      <td>1</td>\n",
       "      <td>0</td>\n",
       "      <td>0</td>\n",
       "      <td>0</td>\n",
       "      <td>0</td>\n",
       "      <td>0</td>\n",
       "    </tr>\n",
       "    <tr>\n",
       "      <th>1</th>\n",
       "      <td>14</td>\n",
       "      <td>19.0</td>\n",
       "      <td>1</td>\n",
       "      <td>0</td>\n",
       "      <td>0</td>\n",
       "      <td>0</td>\n",
       "      <td>0</td>\n",
       "      <td>0</td>\n",
       "      <td>0</td>\n",
       "      <td>0</td>\n",
       "      <td>...</td>\n",
       "      <td>1</td>\n",
       "      <td>0</td>\n",
       "      <td>0</td>\n",
       "      <td>0</td>\n",
       "      <td>1</td>\n",
       "      <td>0</td>\n",
       "      <td>0</td>\n",
       "      <td>0</td>\n",
       "      <td>0</td>\n",
       "      <td>0</td>\n",
       "    </tr>\n",
       "    <tr>\n",
       "      <th>3</th>\n",
       "      <td>12</td>\n",
       "      <td>31.0</td>\n",
       "      <td>1</td>\n",
       "      <td>0</td>\n",
       "      <td>0</td>\n",
       "      <td>0</td>\n",
       "      <td>0</td>\n",
       "      <td>0</td>\n",
       "      <td>0</td>\n",
       "      <td>0</td>\n",
       "      <td>...</td>\n",
       "      <td>1</td>\n",
       "      <td>0</td>\n",
       "      <td>0</td>\n",
       "      <td>0</td>\n",
       "      <td>0</td>\n",
       "      <td>0</td>\n",
       "      <td>0</td>\n",
       "      <td>0</td>\n",
       "      <td>0</td>\n",
       "      <td>0</td>\n",
       "    </tr>\n",
       "    <tr>\n",
       "      <th>7</th>\n",
       "      <td>23</td>\n",
       "      <td>28.0</td>\n",
       "      <td>1</td>\n",
       "      <td>0</td>\n",
       "      <td>0</td>\n",
       "      <td>0</td>\n",
       "      <td>0</td>\n",
       "      <td>1</td>\n",
       "      <td>0</td>\n",
       "      <td>0</td>\n",
       "      <td>...</td>\n",
       "      <td>1</td>\n",
       "      <td>0</td>\n",
       "      <td>0</td>\n",
       "      <td>0</td>\n",
       "      <td>0</td>\n",
       "      <td>1</td>\n",
       "      <td>0</td>\n",
       "      <td>0</td>\n",
       "      <td>0</td>\n",
       "      <td>0</td>\n",
       "    </tr>\n",
       "    <tr>\n",
       "      <th>8</th>\n",
       "      <td>23</td>\n",
       "      <td>23.0</td>\n",
       "      <td>1</td>\n",
       "      <td>0</td>\n",
       "      <td>0</td>\n",
       "      <td>0</td>\n",
       "      <td>0</td>\n",
       "      <td>1</td>\n",
       "      <td>0</td>\n",
       "      <td>0</td>\n",
       "      <td>...</td>\n",
       "      <td>0</td>\n",
       "      <td>0</td>\n",
       "      <td>0</td>\n",
       "      <td>0</td>\n",
       "      <td>0</td>\n",
       "      <td>1</td>\n",
       "      <td>0</td>\n",
       "      <td>0</td>\n",
       "      <td>0</td>\n",
       "      <td>0</td>\n",
       "    </tr>\n",
       "    <tr>\n",
       "      <th>...</th>\n",
       "      <td>...</td>\n",
       "      <td>...</td>\n",
       "      <td>...</td>\n",
       "      <td>...</td>\n",
       "      <td>...</td>\n",
       "      <td>...</td>\n",
       "      <td>...</td>\n",
       "      <td>...</td>\n",
       "      <td>...</td>\n",
       "      <td>...</td>\n",
       "      <td>...</td>\n",
       "      <td>...</td>\n",
       "      <td>...</td>\n",
       "      <td>...</td>\n",
       "      <td>...</td>\n",
       "      <td>...</td>\n",
       "      <td>...</td>\n",
       "      <td>...</td>\n",
       "      <td>...</td>\n",
       "      <td>...</td>\n",
       "      <td>...</td>\n",
       "    </tr>\n",
       "    <tr>\n",
       "      <th>65</th>\n",
       "      <td>37</td>\n",
       "      <td>17.0</td>\n",
       "      <td>1</td>\n",
       "      <td>0</td>\n",
       "      <td>0</td>\n",
       "      <td>0</td>\n",
       "      <td>0</td>\n",
       "      <td>0</td>\n",
       "      <td>0</td>\n",
       "      <td>0</td>\n",
       "      <td>...</td>\n",
       "      <td>1</td>\n",
       "      <td>0</td>\n",
       "      <td>0</td>\n",
       "      <td>0</td>\n",
       "      <td>0</td>\n",
       "      <td>0</td>\n",
       "      <td>0</td>\n",
       "      <td>0</td>\n",
       "      <td>1</td>\n",
       "      <td>0</td>\n",
       "    </tr>\n",
       "    <tr>\n",
       "      <th>66</th>\n",
       "      <td>24</td>\n",
       "      <td>33.0</td>\n",
       "      <td>3</td>\n",
       "      <td>0</td>\n",
       "      <td>0</td>\n",
       "      <td>1</td>\n",
       "      <td>0</td>\n",
       "      <td>0</td>\n",
       "      <td>0</td>\n",
       "      <td>0</td>\n",
       "      <td>...</td>\n",
       "      <td>0</td>\n",
       "      <td>1</td>\n",
       "      <td>0</td>\n",
       "      <td>0</td>\n",
       "      <td>1</td>\n",
       "      <td>0</td>\n",
       "      <td>0</td>\n",
       "      <td>0</td>\n",
       "      <td>1</td>\n",
       "      <td>0</td>\n",
       "    </tr>\n",
       "    <tr>\n",
       "      <th>67</th>\n",
       "      <td>26</td>\n",
       "      <td>33.0</td>\n",
       "      <td>4</td>\n",
       "      <td>0</td>\n",
       "      <td>0</td>\n",
       "      <td>1</td>\n",
       "      <td>0</td>\n",
       "      <td>0</td>\n",
       "      <td>0</td>\n",
       "      <td>0</td>\n",
       "      <td>...</td>\n",
       "      <td>0</td>\n",
       "      <td>1</td>\n",
       "      <td>0</td>\n",
       "      <td>0</td>\n",
       "      <td>1</td>\n",
       "      <td>0</td>\n",
       "      <td>0</td>\n",
       "      <td>0</td>\n",
       "      <td>1</td>\n",
       "      <td>0</td>\n",
       "    </tr>\n",
       "    <tr>\n",
       "      <th>68</th>\n",
       "      <td>39</td>\n",
       "      <td>33.0</td>\n",
       "      <td>2</td>\n",
       "      <td>0</td>\n",
       "      <td>0</td>\n",
       "      <td>1</td>\n",
       "      <td>0</td>\n",
       "      <td>0</td>\n",
       "      <td>0</td>\n",
       "      <td>0</td>\n",
       "      <td>...</td>\n",
       "      <td>1</td>\n",
       "      <td>0</td>\n",
       "      <td>0</td>\n",
       "      <td>0</td>\n",
       "      <td>0</td>\n",
       "      <td>0</td>\n",
       "      <td>0</td>\n",
       "      <td>0</td>\n",
       "      <td>1</td>\n",
       "      <td>0</td>\n",
       "    </tr>\n",
       "    <tr>\n",
       "      <th>69</th>\n",
       "      <td>41</td>\n",
       "      <td>33.0</td>\n",
       "      <td>4</td>\n",
       "      <td>0</td>\n",
       "      <td>0</td>\n",
       "      <td>1</td>\n",
       "      <td>0</td>\n",
       "      <td>0</td>\n",
       "      <td>0</td>\n",
       "      <td>0</td>\n",
       "      <td>...</td>\n",
       "      <td>0</td>\n",
       "      <td>1</td>\n",
       "      <td>0</td>\n",
       "      <td>0</td>\n",
       "      <td>0</td>\n",
       "      <td>0</td>\n",
       "      <td>0</td>\n",
       "      <td>0</td>\n",
       "      <td>1</td>\n",
       "      <td>0</td>\n",
       "    </tr>\n",
       "  </tbody>\n",
       "</table>\n",
       "<p>64 rows × 25 columns</p>\n",
       "</div>"
      ],
      "text/plain": [
       "    Victim_age  Suspect_age  Suspect_count  Crime_attempted murder  \\\n",
       "0           25         33.0              4                       0   \n",
       "1           14         19.0              1                       0   \n",
       "3           12         31.0              1                       0   \n",
       "7           23         28.0              1                       0   \n",
       "8           23         23.0              1                       0   \n",
       "..         ...          ...            ...                     ...   \n",
       "65          37         17.0              1                       0   \n",
       "66          24         33.0              3                       0   \n",
       "67          26         33.0              4                       0   \n",
       "68          39         33.0              2                       0   \n",
       "69          41         33.0              4                       0   \n",
       "\n",
       "    Crime_cyber defamation  Crime_domestic violence  \\\n",
       "0                        0                        1   \n",
       "1                        0                        0   \n",
       "3                        0                        0   \n",
       "7                        0                        0   \n",
       "8                        0                        0   \n",
       "..                     ...                      ...   \n",
       "65                       0                        0   \n",
       "66                       0                        1   \n",
       "67                       0                        1   \n",
       "68                       0                        1   \n",
       "69                       0                        1   \n",
       "\n",
       "    Crime_kidnapping of minor  Crime_murder  Crime_rape  \\\n",
       "0                           0             0           0   \n",
       "1                           0             0           0   \n",
       "3                           0             0           0   \n",
       "7                           0             1           0   \n",
       "8                           0             1           0   \n",
       "..                        ...           ...         ...   \n",
       "65                          0             0           0   \n",
       "66                          0             0           0   \n",
       "67                          0             0           0   \n",
       "68                          0             0           0   \n",
       "69                          0             0           0   \n",
       "\n",
       "    Crime_rape and cyber defamation  ...  Suspect_gender_identified_Male  \\\n",
       "0                                 0  ...                               0   \n",
       "1                                 0  ...                               1   \n",
       "3                                 0  ...                               1   \n",
       "7                                 0  ...                               1   \n",
       "8                                 0  ...                               0   \n",
       "..                              ...  ...                             ...   \n",
       "65                                0  ...                               1   \n",
       "66                                0  ...                               0   \n",
       "67                                0  ...                               0   \n",
       "68                                0  ...                               1   \n",
       "69                                0  ...                               0   \n",
       "\n",
       "    Suspect_gender_identified_both  Suspect_gender_identified_unknown  \\\n",
       "0                                1                                  0   \n",
       "1                                0                                  0   \n",
       "3                                0                                  0   \n",
       "7                                0                                  0   \n",
       "8                                0                                  0   \n",
       "..                             ...                                ...   \n",
       "65                               0                                  0   \n",
       "66                               1                                  0   \n",
       "67                               1                                  0   \n",
       "68                               0                                  0   \n",
       "69                               1                                  0   \n",
       "\n",
       "    Suspect_known_status_unknown  Victim_religion_Muslim  \\\n",
       "0                              0                       1   \n",
       "1                              0                       1   \n",
       "3                              0                       0   \n",
       "7                              0                       0   \n",
       "8                              0                       0   \n",
       "..                           ...                     ...   \n",
       "65                             0                       0   \n",
       "66                             0                       1   \n",
       "67                             0                       1   \n",
       "68                             0                       0   \n",
       "69                             0                       0   \n",
       "\n",
       "    Police_station_Kalwa  Police_station_Mumbra  Police_station_Naupada  \\\n",
       "0                      0                      0                       0   \n",
       "1                      0                      0                       0   \n",
       "3                      0                      0                       0   \n",
       "7                      1                      0                       0   \n",
       "8                      1                      0                       0   \n",
       "..                   ...                    ...                     ...   \n",
       "65                     0                      0                       0   \n",
       "66                     0                      0                       0   \n",
       "67                     0                      0                       0   \n",
       "68                     0                      0                       0   \n",
       "69                     0                      0                       0   \n",
       "\n",
       "    Police_station_Rabodi  Police_station_Thanenagar  \n",
       "0                       0                          0  \n",
       "1                       0                          0  \n",
       "3                       0                          0  \n",
       "7                       0                          0  \n",
       "8                       0                          0  \n",
       "..                    ...                        ...  \n",
       "65                      1                          0  \n",
       "66                      1                          0  \n",
       "67                      1                          0  \n",
       "68                      1                          0  \n",
       "69                      1                          0  \n",
       "\n",
       "[64 rows x 25 columns]"
      ]
     },
     "execution_count": 61,
     "metadata": {},
     "output_type": "execute_result"
    }
   ],
   "source": [
    "data"
   ]
  },
  {
   "cell_type": "code",
   "execution_count": 62,
   "id": "6fd79b33",
   "metadata": {},
   "outputs": [],
   "source": [
    "inputs=data.drop('Suspect_known_status_unknown', axis=1)"
   ]
  },
  {
   "cell_type": "code",
   "execution_count": 63,
   "id": "f6ed741f",
   "metadata": {},
   "outputs": [],
   "source": [
    "target=data['Suspect_known_status_unknown']"
   ]
  },
  {
   "cell_type": "code",
   "execution_count": 64,
   "id": "045604f0",
   "metadata": {},
   "outputs": [],
   "source": [
    "X_train, X_test, y_train, y_test = train_test_split(inputs, target, test_size=0.2)"
   ]
  },
  {
   "cell_type": "code",
   "execution_count": 65,
   "id": "fa495f71",
   "metadata": {},
   "outputs": [],
   "source": [
    "model=GaussianNB()"
   ]
  },
  {
   "cell_type": "code",
   "execution_count": 66,
   "id": "4017fe53",
   "metadata": {},
   "outputs": [
    {
     "data": {
      "text/plain": [
       "GaussianNB()"
      ]
     },
     "execution_count": 66,
     "metadata": {},
     "output_type": "execute_result"
    }
   ],
   "source": [
    "model.fit(X_train, y_train)"
   ]
  },
  {
   "cell_type": "code",
   "execution_count": 67,
   "id": "74019dff",
   "metadata": {},
   "outputs": [
    {
     "data": {
      "text/plain": [
       "0.7692307692307693"
      ]
     },
     "execution_count": 67,
     "metadata": {},
     "output_type": "execute_result"
    }
   ],
   "source": [
    "model.score(X_test,y_test)"
   ]
  },
  {
   "cell_type": "code",
   "execution_count": 68,
   "id": "860051c9",
   "metadata": {},
   "outputs": [
    {
     "data": {
      "text/plain": [
       "array([1, 1, 0, 1, 0, 0, 1, 1, 0, 0], dtype=uint8)"
      ]
     },
     "execution_count": 68,
     "metadata": {},
     "output_type": "execute_result"
    }
   ],
   "source": [
    "model.predict(X_test[0:10])"
   ]
  },
  {
   "cell_type": "code",
   "execution_count": null,
   "id": "e9fc39f1",
   "metadata": {},
   "outputs": [],
   "source": []
  }
 ],
 "metadata": {
  "kernelspec": {
   "display_name": "Python 3 (ipykernel)",
   "language": "python",
   "name": "python3"
  },
  "language_info": {
   "codemirror_mode": {
    "name": "ipython",
    "version": 3
   },
   "file_extension": ".py",
   "mimetype": "text/x-python",
   "name": "python",
   "nbconvert_exporter": "python",
   "pygments_lexer": "ipython3",
   "version": "3.9.12"
  }
 },
 "nbformat": 4,
 "nbformat_minor": 5
}
